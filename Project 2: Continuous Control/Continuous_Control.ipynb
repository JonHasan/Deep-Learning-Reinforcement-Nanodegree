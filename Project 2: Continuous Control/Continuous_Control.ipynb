{
 "cells": [
  {
   "cell_type": "markdown",
   "metadata": {},
   "source": [
    "# Continuous Control\n",
    "\n",
    "---\n",
    "\n",
    "You are welcome to use this coding environment to train your agent for the project.  Follow the instructions below to get started!\n",
    "\n",
    "### 1. Start the Environment\n",
    "\n",
    "Run the next code cell to install a few packages.  This line will take a few minutes to run!"
   ]
  },
  {
   "cell_type": "code",
   "execution_count": 1,
   "metadata": {},
   "outputs": [],
   "source": [
    "import workspace_utils\n"
   ]
  },
  {
   "cell_type": "code",
   "execution_count": 2,
   "metadata": {},
   "outputs": [
    {
     "name": "stdout",
     "output_type": "stream",
     "text": [
      "\u001b[31mtensorflow 1.7.1 has requirement numpy>=1.13.3, but you'll have numpy 1.12.1 which is incompatible.\u001b[0m\r\n",
      "\u001b[31mipython 6.5.0 has requirement prompt-toolkit<2.0.0,>=1.0.15, but you'll have prompt-toolkit 2.0.10 which is incompatible.\u001b[0m\r\n"
     ]
    }
   ],
   "source": [
    "!pip -q install ./python"
   ]
  },
  {
   "cell_type": "markdown",
   "metadata": {},
   "source": [
    "The environments corresponding to both versions of the environment are already saved in the Workspace and can be accessed at the file paths provided below.  \n",
    "\n",
    "Please select one of the two options below for loading the environment."
   ]
  },
  {
   "cell_type": "code",
   "execution_count": 3,
   "metadata": {},
   "outputs": [
    {
     "name": "stderr",
     "output_type": "stream",
     "text": [
      "INFO:unityagents:\n",
      "'Academy' started successfully!\n",
      "Unity Academy name: Academy\n",
      "        Number of Brains: 1\n",
      "        Number of External Brains : 1\n",
      "        Lesson number : 0\n",
      "        Reset Parameters :\n",
      "\t\tgoal_size -> 5.0\n",
      "\t\tgoal_speed -> 1.0\n",
      "Unity brain name: ReacherBrain\n",
      "        Number of Visual Observations (per agent): 0\n",
      "        Vector Observation space type: continuous\n",
      "        Vector Observation space size (per agent): 33\n",
      "        Number of stacked Vector Observation: 1\n",
      "        Vector Action space type: continuous\n",
      "        Vector Action space size (per agent): 4\n",
      "        Vector Action descriptions: , , , \n"
     ]
    }
   ],
   "source": [
    "from unityagents import UnityEnvironment\n",
    "import numpy as np\n",
    "\n",
    "# select this option to load version 1 (with a single agent) of the environment\n",
    "#env = UnityEnvironment(file_name='/data/Reacher_One_Linux_NoVis/Reacher_One_Linux_NoVis.x86_64')\n",
    "\n",
    "# select this option to load version 2 (with 20 agents) of the environment\n",
    "env = UnityEnvironment(file_name='/data/Reacher_Linux_NoVis/Reacher.x86_64')"
   ]
  },
  {
   "cell_type": "markdown",
   "metadata": {},
   "source": [
    "Environments contain **_brains_** which are responsible for deciding the actions of their associated agents. Here we check for the first brain available, and set it as the default brain we will be controlling from Python."
   ]
  },
  {
   "cell_type": "code",
   "execution_count": 4,
   "metadata": {},
   "outputs": [],
   "source": [
    "# get the default brain\n",
    "brain_name = env.brain_names[0]\n",
    "brain = env.brains[brain_name]"
   ]
  },
  {
   "cell_type": "markdown",
   "metadata": {},
   "source": [
    "### 2. Examine the State and Action Spaces\n",
    "\n",
    "Run the code cell below to print some information about the environment."
   ]
  },
  {
   "cell_type": "code",
   "execution_count": 5,
   "metadata": {},
   "outputs": [
    {
     "name": "stdout",
     "output_type": "stream",
     "text": [
      "Number of agents: 20\n",
      "Size of each action: 4\n",
      "There are 20 agents. Each observes a state with length: 33\n",
      "The state for the first agent looks like: [  0.00000000e+00  -4.00000000e+00   0.00000000e+00   1.00000000e+00\n",
      "  -0.00000000e+00  -0.00000000e+00  -4.37113883e-08   0.00000000e+00\n",
      "   0.00000000e+00   0.00000000e+00   0.00000000e+00   0.00000000e+00\n",
      "   0.00000000e+00   0.00000000e+00  -1.00000000e+01   0.00000000e+00\n",
      "   1.00000000e+00  -0.00000000e+00  -0.00000000e+00  -4.37113883e-08\n",
      "   0.00000000e+00   0.00000000e+00   0.00000000e+00   0.00000000e+00\n",
      "   0.00000000e+00   0.00000000e+00   5.75471878e+00  -1.00000000e+00\n",
      "   5.55726624e+00   0.00000000e+00   1.00000000e+00   0.00000000e+00\n",
      "  -1.68164849e-01]\n"
     ]
    }
   ],
   "source": [
    "# reset the environment\n",
    "env_info = env.reset(train_mode=True)[brain_name]\n",
    "\n",
    "# number of agents\n",
    "num_agents = len(env_info.agents)\n",
    "print('Number of agents:', num_agents)\n",
    "\n",
    "# size of each action\n",
    "action_size = brain.vector_action_space_size\n",
    "print('Size of each action:', action_size)\n",
    "\n",
    "# examine the state space \n",
    "states = env_info.vector_observations\n",
    "state_size = states.shape[1]\n",
    "print('There are {} agents. Each observes a state with length: {}'.format(states.shape[0], state_size))\n",
    "print('The state for the first agent looks like:', states[0])"
   ]
  },
  {
   "cell_type": "markdown",
   "metadata": {},
   "source": [
    "### 3. Take Random Actions in the Environment\n",
    "\n",
    "In the next code cell, you will learn how to use the Python API to control the agent and receive feedback from the environment.\n",
    "\n",
    "Note that **in this coding environment, you will not be able to watch the agents while they are training**, and you should set `train_mode=True` to restart the environment."
   ]
  },
  {
   "cell_type": "code",
   "execution_count": 6,
   "metadata": {},
   "outputs": [
    {
     "name": "stdout",
     "output_type": "stream",
     "text": [
      "Total score (averaged over agents) this episode: 0.08199999816715717\n"
     ]
    }
   ],
   "source": [
    "env_info = env.reset(train_mode=True)[brain_name]      # reset the environment    \n",
    "states = env_info.vector_observations                  # get the current state (for each agent)\n",
    "scores = np.zeros(num_agents)                          # initialize the score (for each agent)\n",
    "while True:\n",
    "    actions = np.random.randn(num_agents, action_size) # select an action (for each agent)\n",
    "    actions = np.clip(actions, -1, 1)                  # all actions between -1 and 1\n",
    "    env_info = env.step(actions)[brain_name]           # send all actions to tne environment\n",
    "    next_states = env_info.vector_observations         # get next state (for each agent)\n",
    "    rewards = env_info.rewards                         # get reward (for each agent)\n",
    "    dones = env_info.local_done                        # see if episode finished\n",
    "    scores += env_info.rewards                         # update the score (for each agent)\n",
    "    states = next_states                               # roll over states to next time step\n",
    "    if np.any(dones):                                  # exit loop if episode finished\n",
    "        break\n",
    "print('Total score (averaged over agents) this episode: {}'.format(np.mean(scores)))"
   ]
  },
  {
   "cell_type": "code",
   "execution_count": 7,
   "metadata": {},
   "outputs": [],
   "source": [
    "import torch\n",
    "\n",
    "import time \n",
    "\n",
    "import matplotlib.pyplot as plt \n",
    "\n",
    "from collections import deque\n",
    "\n",
    "from ddpg_agent import Agent\n"
   ]
  },
  {
   "cell_type": "code",
   "execution_count": 8,
   "metadata": {},
   "outputs": [],
   "source": [
    "def ddpg(n_episodes=150, max_t=1000, print_every=1):\n",
    "    \n",
    "    # bottom three lines from MSJose\n",
    "    mean_scores = []\n",
    "    moving_avgs = []\n",
    "    best_score = -np.inf\n",
    "    #scores_window = []\n",
    "    \n",
    "    scores_deque = deque(maxlen=100)\n",
    "    #scores = []\n",
    "    \n",
    "    for i_episode in range(1, n_episodes+1):\n",
    "        #state = env.reset()\n",
    "        #agent.reset()\n",
    "        #score = 0\n",
    "        env_info = env.reset(train_mode=True)[brain_name]      # reset the environment    \n",
    "        states = env_info.vector_observations                  # get the current state (for each agent)\n",
    "        scores = np.zeros(num_agents)\n",
    "        agent.reset()\n",
    "        start_time = time.time() \n",
    "        \n",
    "        for t in range(max_t):\n",
    "            actions = agent.act(states, add_noise = True)\n",
    "            #actions = np.clip(actions, -1, 1)\n",
    "            env_info = env.step(actions)[brain_name]\n",
    "            next_states = env_info.vector_observations\n",
    "            rewards = env_info.rewards\n",
    "            dones = env_info.local_done\n",
    "           \n",
    "            for state, action, reward, next_state, done in zip(states, actions, rewards, next_states, dones):\n",
    "                    agent.step(state, action, reward, next_state, done, t)\n",
    "                    \n",
    "            states = next_states\n",
    "            scores += rewards\n",
    "            if np.any(dones):\n",
    "                break \n",
    "                \n",
    "                \n",
    "        duration = time.time() - start_time\n",
    "        \n",
    "        #scores.append(score)\n",
    "        mean_scores.append(np.mean(scores))\n",
    "        \n",
    "        scores_deque.append(mean_scores[-1])\n",
    "        \n",
    "        #scores_window.append(mean_scores[-1])\n",
    "        moving_avgs.append(np.mean(scores_deque))\n",
    "        \n",
    "        \n",
    "        #print('\\rEpisode {}\\tAverage Score: {:.2f}'.format(i_episode, np.mean(scores_deque)), end=\"\")\n",
    "        \n",
    "        if i_episode % print_every == 0:\n",
    "            print('\\rEpisode {} ({}s)\\tAverage Score: {:.2f} \\tMoving Avg: {:.1f}'.format(i_episode, round(duration), mean_scores[-1], moving_avgs[-1]))\n",
    "        \n",
    "        if moving_avgs[-1] >= 30 and i_episode >= 100:\n",
    "            print('\\nEnvironment solved in {:d} episodes!\\tAverage Score: {:.2f}'.format(i_episode-100, moving_avgs[-1]))\n",
    "            break\n",
    "        \n",
    "        torch.save(agent.actor_local.state_dict(), 'checkpoint_actor.pth')\n",
    "        torch.save(agent.critic_local.state_dict(), 'checkpoint_critic.pth')\n",
    "        \n",
    "    return mean_scores, moving_avgs\n"
   ]
  },
  {
   "cell_type": "code",
   "execution_count": 9,
   "metadata": {},
   "outputs": [
    {
     "name": "stderr",
     "output_type": "stream",
     "text": [
      "/home/workspace/ddpg_agent.py:127: UserWarning: torch.nn.utils.clip_grad_norm is now deprecated in favor of torch.nn.utils.clip_grad_norm_.\n",
      "  torch.nn.utils.clip_grad_norm(self.critic_local.parameters(), GRAD_CLIPPING)\n"
     ]
    },
    {
     "name": "stdout",
     "output_type": "stream",
     "text": [
      "Episode 1 (116s)\tAverage Score: 0.48 \tMoving Avg: 0.5\n",
      "Episode 2 (120s)\tAverage Score: 0.98 \tMoving Avg: 0.7\n",
      "Episode 3 (122s)\tAverage Score: 1.17 \tMoving Avg: 0.9\n",
      "Episode 4 (123s)\tAverage Score: 1.35 \tMoving Avg: 1.0\n",
      "Episode 5 (123s)\tAverage Score: 1.48 \tMoving Avg: 1.1\n",
      "Episode 6 (124s)\tAverage Score: 1.67 \tMoving Avg: 1.2\n",
      "Episode 7 (126s)\tAverage Score: 1.91 \tMoving Avg: 1.3\n",
      "Episode 8 (125s)\tAverage Score: 2.89 \tMoving Avg: 1.5\n",
      "Episode 9 (126s)\tAverage Score: 3.69 \tMoving Avg: 1.7\n",
      "Episode 10 (126s)\tAverage Score: 4.60 \tMoving Avg: 2.0\n",
      "Episode 11 (128s)\tAverage Score: 4.56 \tMoving Avg: 2.3\n",
      "Episode 12 (131s)\tAverage Score: 4.37 \tMoving Avg: 2.4\n",
      "Episode 13 (132s)\tAverage Score: 4.27 \tMoving Avg: 2.6\n",
      "Episode 14 (133s)\tAverage Score: 5.82 \tMoving Avg: 2.8\n",
      "Episode 15 (140s)\tAverage Score: 6.00 \tMoving Avg: 3.0\n",
      "Episode 16 (138s)\tAverage Score: 7.32 \tMoving Avg: 3.3\n",
      "Episode 17 (140s)\tAverage Score: 7.74 \tMoving Avg: 3.5\n",
      "Episode 18 (141s)\tAverage Score: 8.52 \tMoving Avg: 3.8\n",
      "Episode 19 (143s)\tAverage Score: 8.51 \tMoving Avg: 4.1\n",
      "Episode 20 (146s)\tAverage Score: 10.22 \tMoving Avg: 4.4\n",
      "Episode 21 (148s)\tAverage Score: 8.68 \tMoving Avg: 4.6\n",
      "Episode 22 (150s)\tAverage Score: 9.85 \tMoving Avg: 4.8\n",
      "Episode 23 (152s)\tAverage Score: 8.68 \tMoving Avg: 5.0\n",
      "Episode 24 (155s)\tAverage Score: 11.77 \tMoving Avg: 5.3\n",
      "Episode 25 (157s)\tAverage Score: 11.96 \tMoving Avg: 5.5\n",
      "Episode 26 (159s)\tAverage Score: 12.10 \tMoving Avg: 5.8\n",
      "Episode 27 (161s)\tAverage Score: 14.63 \tMoving Avg: 6.1\n",
      "Episode 28 (163s)\tAverage Score: 14.18 \tMoving Avg: 6.4\n",
      "Episode 29 (167s)\tAverage Score: 13.88 \tMoving Avg: 6.7\n",
      "Episode 30 (169s)\tAverage Score: 14.73 \tMoving Avg: 6.9\n",
      "Episode 31 (172s)\tAverage Score: 15.43 \tMoving Avg: 7.2\n",
      "Episode 32 (175s)\tAverage Score: 16.45 \tMoving Avg: 7.5\n",
      "Episode 33 (178s)\tAverage Score: 16.43 \tMoving Avg: 7.8\n",
      "Episode 34 (181s)\tAverage Score: 15.79 \tMoving Avg: 8.0\n",
      "Episode 35 (184s)\tAverage Score: 16.34 \tMoving Avg: 8.2\n",
      "Episode 36 (187s)\tAverage Score: 16.23 \tMoving Avg: 8.5\n",
      "Episode 37 (189s)\tAverage Score: 16.42 \tMoving Avg: 8.7\n",
      "Episode 38 (191s)\tAverage Score: 16.17 \tMoving Avg: 8.9\n",
      "Episode 39 (194s)\tAverage Score: 18.59 \tMoving Avg: 9.1\n",
      "Episode 40 (195s)\tAverage Score: 19.11 \tMoving Avg: 9.4\n",
      "Episode 41 (197s)\tAverage Score: 17.51 \tMoving Avg: 9.6\n",
      "Episode 42 (200s)\tAverage Score: 19.30 \tMoving Avg: 9.8\n",
      "Episode 43 (203s)\tAverage Score: 18.10 \tMoving Avg: 10.0\n",
      "Episode 44 (205s)\tAverage Score: 20.23 \tMoving Avg: 10.2\n",
      "Episode 45 (208s)\tAverage Score: 20.54 \tMoving Avg: 10.5\n",
      "Episode 46 (210s)\tAverage Score: 21.46 \tMoving Avg: 10.7\n",
      "Episode 47 (213s)\tAverage Score: 21.15 \tMoving Avg: 10.9\n",
      "Episode 48 (215s)\tAverage Score: 22.17 \tMoving Avg: 11.2\n",
      "Episode 49 (217s)\tAverage Score: 23.06 \tMoving Avg: 11.4\n",
      "Episode 50 (220s)\tAverage Score: 23.88 \tMoving Avg: 11.6\n",
      "Episode 51 (222s)\tAverage Score: 27.71 \tMoving Avg: 12.0\n",
      "Episode 52 (222s)\tAverage Score: 29.06 \tMoving Avg: 12.3\n",
      "Episode 53 (222s)\tAverage Score: 29.82 \tMoving Avg: 12.6\n",
      "Episode 54 (222s)\tAverage Score: 30.08 \tMoving Avg: 12.9\n",
      "Episode 55 (223s)\tAverage Score: 31.10 \tMoving Avg: 13.3\n",
      "Episode 56 (222s)\tAverage Score: 31.25 \tMoving Avg: 13.6\n",
      "Episode 57 (222s)\tAverage Score: 32.53 \tMoving Avg: 13.9\n",
      "Episode 58 (222s)\tAverage Score: 34.80 \tMoving Avg: 14.3\n",
      "Episode 59 (223s)\tAverage Score: 35.22 \tMoving Avg: 14.6\n",
      "Episode 60 (224s)\tAverage Score: 34.19 \tMoving Avg: 15.0\n",
      "Episode 61 (222s)\tAverage Score: 34.89 \tMoving Avg: 15.3\n",
      "Episode 62 (223s)\tAverage Score: 34.53 \tMoving Avg: 15.6\n",
      "Episode 63 (221s)\tAverage Score: 34.45 \tMoving Avg: 15.9\n",
      "Episode 64 (223s)\tAverage Score: 35.37 \tMoving Avg: 16.2\n",
      "Episode 65 (222s)\tAverage Score: 34.30 \tMoving Avg: 16.5\n",
      "Episode 66 (224s)\tAverage Score: 35.41 \tMoving Avg: 16.8\n",
      "Episode 67 (222s)\tAverage Score: 35.90 \tMoving Avg: 17.1\n",
      "Episode 68 (223s)\tAverage Score: 35.16 \tMoving Avg: 17.3\n",
      "Episode 69 (222s)\tAverage Score: 36.26 \tMoving Avg: 17.6\n",
      "Episode 70 (224s)\tAverage Score: 36.25 \tMoving Avg: 17.9\n",
      "Episode 71 (222s)\tAverage Score: 36.91 \tMoving Avg: 18.1\n",
      "Episode 72 (223s)\tAverage Score: 36.40 \tMoving Avg: 18.4\n",
      "Episode 73 (222s)\tAverage Score: 34.18 \tMoving Avg: 18.6\n",
      "Episode 74 (222s)\tAverage Score: 35.26 \tMoving Avg: 18.8\n",
      "Episode 75 (221s)\tAverage Score: 36.35 \tMoving Avg: 19.1\n",
      "Episode 76 (221s)\tAverage Score: 37.05 \tMoving Avg: 19.3\n",
      "Episode 77 (222s)\tAverage Score: 36.15 \tMoving Avg: 19.5\n",
      "Episode 78 (222s)\tAverage Score: 35.90 \tMoving Avg: 19.7\n",
      "Episode 79 (221s)\tAverage Score: 36.07 \tMoving Avg: 19.9\n",
      "Episode 80 (223s)\tAverage Score: 35.49 \tMoving Avg: 20.1\n",
      "Episode 82 (222s)\tAverage Score: 36.65 \tMoving Avg: 20.5\n",
      "Episode 83 (223s)\tAverage Score: 37.54 \tMoving Avg: 20.7\n",
      "Episode 85 (223s)\tAverage Score: 35.88 \tMoving Avg: 21.1\n",
      "Episode 86 (223s)\tAverage Score: 37.79 \tMoving Avg: 21.3\n",
      "Episode 87 (222s)\tAverage Score: 37.14 \tMoving Avg: 21.5\n",
      "Episode 88 (221s)\tAverage Score: 35.92 \tMoving Avg: 21.6\n",
      "Episode 89 (219s)\tAverage Score: 35.47 \tMoving Avg: 21.8\n",
      "Episode 90 (220s)\tAverage Score: 35.79 \tMoving Avg: 22.0\n",
      "Episode 91 (224s)\tAverage Score: 34.98 \tMoving Avg: 22.1\n",
      "Episode 92 (221s)\tAverage Score: 36.42 \tMoving Avg: 22.3\n",
      "Episode 93 (221s)\tAverage Score: 36.25 \tMoving Avg: 22.4\n",
      "Episode 94 (222s)\tAverage Score: 36.01 \tMoving Avg: 22.5\n",
      "Episode 95 (224s)\tAverage Score: 35.87 \tMoving Avg: 22.7\n",
      "Episode 96 (223s)\tAverage Score: 35.05 \tMoving Avg: 22.8\n",
      "Episode 97 (225s)\tAverage Score: 36.76 \tMoving Avg: 23.0\n",
      "Episode 98 (224s)\tAverage Score: 35.32 \tMoving Avg: 23.1\n",
      "Episode 99 (223s)\tAverage Score: 35.97 \tMoving Avg: 23.2\n",
      "Episode 100 (224s)\tAverage Score: 35.79 \tMoving Avg: 23.3\n",
      "Episode 101 (223s)\tAverage Score: 34.79 \tMoving Avg: 23.7\n",
      "Episode 102 (223s)\tAverage Score: 34.80 \tMoving Avg: 24.0\n",
      "Episode 103 (223s)\tAverage Score: 34.79 \tMoving Avg: 24.4\n",
      "Episode 104 (223s)\tAverage Score: 33.30 \tMoving Avg: 24.7\n",
      "Episode 105 (223s)\tAverage Score: 32.90 \tMoving Avg: 25.0\n",
      "Episode 106 (225s)\tAverage Score: 33.91 \tMoving Avg: 25.3\n",
      "Episode 107 (224s)\tAverage Score: 30.88 \tMoving Avg: 25.6\n",
      "Episode 108 (223s)\tAverage Score: 33.91 \tMoving Avg: 25.9\n",
      "Episode 109 (224s)\tAverage Score: 34.66 \tMoving Avg: 26.2\n",
      "Episode 110 (223s)\tAverage Score: 35.85 \tMoving Avg: 26.5\n",
      "Episode 111 (224s)\tAverage Score: 35.26 \tMoving Avg: 26.8\n",
      "Episode 112 (224s)\tAverage Score: 36.30 \tMoving Avg: 27.2\n",
      "Episode 113 (224s)\tAverage Score: 35.12 \tMoving Avg: 27.5\n",
      "Episode 114 (223s)\tAverage Score: 36.06 \tMoving Avg: 27.8\n",
      "Episode 115 (222s)\tAverage Score: 36.00 \tMoving Avg: 28.1\n",
      "Episode 116 (224s)\tAverage Score: 35.08 \tMoving Avg: 28.4\n",
      "Episode 117 (224s)\tAverage Score: 36.94 \tMoving Avg: 28.6\n",
      "Episode 118 (225s)\tAverage Score: 36.11 \tMoving Avg: 28.9\n",
      "Episode 119 (223s)\tAverage Score: 36.58 \tMoving Avg: 29.2\n",
      "Episode 120 (223s)\tAverage Score: 36.10 \tMoving Avg: 29.5\n",
      "Episode 121 (224s)\tAverage Score: 36.41 \tMoving Avg: 29.7\n",
      "Episode 122 (225s)\tAverage Score: 36.44 \tMoving Avg: 30.0\n",
      "\n",
      "Environment solved in 22 episodes!\tAverage Score: 30.00\n"
     ]
    },
    {
     "data": {
      "image/png": "[encoded data removed]",
      "text/plain": [
       "<matplotlib.figure.Figure at 0x7f40fc077828>"
      ]
     },
     "metadata": {
      "needs_background": "light"
     },
     "output_type": "display_data"
    }
   ],
   "source": [
    "import random\n",
    "\n",
    "SEED = 0\n",
    "\n",
    "agent = Agent(state_size=state_size, action_size=action_size, random_seed=SEED)\n",
    "\n",
    "#agent.actor_local.load_state_dict(torch.load('checkpoint_actor.pth'))\n",
    "#agent.critic_local.load_state_dict(torch.load('checkpoint_critic.pth'))\n",
    "\n",
    "from workspace_utils import active_session\n",
    "with active_session():\n",
    "    scores, avgs = ddpg()\n",
    "\n",
    "fig = plt.figure()\n",
    "ax = fig.add_subplot(111)\n",
    "plt.plot(np.arange(1, len(scores)+1), scores, label = \"DDPG\")\n",
    "plt.plot(np.arange(len(scores)), avgs, c = \"r\", label = 'Moving Avg')\n",
    "plt.ylabel('Score')\n",
    "plt.xlabel('Episode #')\n",
    "plt.show()"
   ]
  },
  {
   "cell_type": "markdown",
   "metadata": {},
   "source": [
    "When finished, you can close the environment."
   ]
  },
  {
   "cell_type": "code",
   "execution_count": 1,
   "metadata": {},
   "outputs": [
    {
     "ename": "NameError",
     "evalue": "name 'env' is not defined",
     "output_type": "error",
     "traceback": [
      "\u001b[0;31m---------------------------------------------------------------------------\u001b[0m",
      "\u001b[0;31mNameError\u001b[0m                                 Traceback (most recent call last)",
      "\u001b[0;32m<ipython-input-1-1baceacf4cb1>\u001b[0m in \u001b[0;36m<module>\u001b[0;34m()\u001b[0m\n\u001b[0;32m----> 1\u001b[0;31m \u001b[0menv\u001b[0m\u001b[0;34m.\u001b[0m\u001b[0mclose\u001b[0m\u001b[0;34m(\u001b[0m\u001b[0;34m)\u001b[0m\u001b[0;34m\u001b[0m\u001b[0m\n\u001b[0m",
      "\u001b[0;31mNameError\u001b[0m: name 'env' is not defined"
     ]
    }
   ],
   "source": [
    "env.close()"
   ]
  },
  {
   "cell_type": "markdown",
   "metadata": {},
   "source": [
    "### 4. It's Your Turn!\n",
    "\n",
    "Now it's your turn to train your own agent to solve the environment!  A few **important notes**:\n",
    "- When training the environment, set `train_mode=True`, so that the line for resetting the environment looks like the following:\n",
    "```python\n",
    "env_info = env.reset(train_mode=True)[brain_name]\n",
    "```\n",
    "- To structure your work, you're welcome to work directly in this Jupyter notebook, or you might like to start over with a new file!  You can see the list of files in the workspace by clicking on **_Jupyter_** in the top left corner of the notebook.\n",
    "- In this coding environment, you will not be able to watch the agents while they are training.  However, **_after training the agents_**, you can download the saved model weights to watch the agents on your own machine! "
   ]
  },
  {
   "cell_type": "code",
   "execution_count": null,
   "metadata": {},
   "outputs": [],
   "source": []
  }
 ],
 "metadata": {
  "kernelspec": {
   "display_name": "Python 3",
   "language": "python",
   "name": "python3"
  },
  "language_info": {
   "codemirror_mode": {
    "name": "ipython",
    "version": 3
   },
   "file_extension": ".py",
   "mimetype": "text/x-python",
   "name": "python",
   "nbconvert_exporter": "python",
   "pygments_lexer": "ipython3",
   "version": "3.6.3"
  }
 },
 "nbformat": 4,
 "nbformat_minor": 2
}
